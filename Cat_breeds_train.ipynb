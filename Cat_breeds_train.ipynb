{
  "nbformat": 4,
  "nbformat_minor": 0,
  "metadata": {
    "accelerator": "GPU",
    "colab": {
      "name": "Cat_breeds_train.ipynb",
      "provenance": [],
      "collapsed_sections": [],
      "machine_shape": "hm"
    },
    "kernelspec": {
      "display_name": "Python 3",
      "name": "python3"
    },
    "language_info": {
      "name": "python"
    }
  },
  "cells": [
    {
      "cell_type": "markdown",
      "metadata": {
        "id": "aX64YLrcxAa_"
      },
      "source": [
        "# Cat breeds model training notebook"
      ]
    },
    {
      "cell_type": "code",
      "metadata": {
        "id": "1Bn9Gs_iuBAk"
      },
      "source": [
        ""
      ],
      "execution_count": 1,
      "outputs": []
    },
    {
      "cell_type": "markdown",
      "metadata": {
        "id": "uvU9T7sFw0QS"
      },
      "source": [
        "Исходные данные размещены на Kaggle (размеченные фотографии 67 пород кошек):\n",
        "https://www.kaggle.com/ma7555/cat-breeds-dataset\n",
        "\n",
        "Данные загружаются с Google Drive, для этого необходимо его смонтировать\n",
        "загрузку файла по прямой ссылке без монтирования не удалось реализовать, т.к.\n",
        "Google Drive при загрузке большого файла открывает страницу с предупреждением\n",
        "про проверку антивирусом\n",
        "\n",
        "для воспроизведения обучения модели необходимо файл с данными Archive.zip\n",
        "разместить на Google Drive в папке data (или поменять код в следующей ячейке,\n",
        "если расположение файла другое) \n",
        "\n",
        "Модель тренируется по механизму Transfer Learning (используется модель Big Transfer в качестве body, head модели меняется для настройки на 67 классов)\n",
        "\n",
        "Натренированная модель сохраняется на Google Drive в папку data в файл cats_model_state\n"
      ]
    },
    {
      "cell_type": "code",
      "metadata": {
        "id": "fBIQoynEyilp"
      },
      "source": [
        "from google.colab import drive\n",
        "import pandas as pd\n",
        "import os\n",
        "import glob\n",
        "from functools import partial\n",
        "from collections import OrderedDict\n",
        "\n",
        "import numpy as np\n",
        "\n",
        "import matplotlib.pyplot as plt\n",
        "from mpl_toolkits.axes_grid1 import ImageGrid\n",
        "\n",
        "import torch\n",
        "import torch.nn as nn\n",
        "import torch.nn.functional as F\n",
        "from torch.autograd import Variable\n",
        "from torch.utils.data import Dataset, Subset, DataLoader\n",
        "\n",
        "import torchvision as tv\n",
        "\n",
        "import requests\n",
        "\n",
        "import io as io_\n",
        "\n",
        "from skimage import io\n",
        "\n",
        "import PIL\n",
        "\n",
        "from sklearn.model_selection import train_test_split\n",
        "import pickle\n"
      ],
      "execution_count": 2,
      "outputs": []
    },
    {
      "cell_type": "code",
      "metadata": {
        "id": "p9ZZDJ5UWoET",
        "colab": {
          "base_uri": "https://localhost:8080/"
        },
        "outputId": "a63b89b7-2663-4b8b-d49f-8d7766b826aa"
      },
      "source": [
        "drive.mount('/content/gdrive')\n",
        "!mkdir /content/cats/\n",
        "!unzip -q /content/gdrive/MyDrive/data/Archive.zip -d /content/cats/"
      ],
      "execution_count": 3,
      "outputs": [
        {
          "output_type": "stream",
          "name": "stdout",
          "text": [
            "Mounted at /content/gdrive\n"
          ]
        }
      ]
    },
    {
      "cell_type": "code",
      "metadata": {
        "id": "pT-6ywxWfRJv",
        "colab": {
          "base_uri": "https://localhost:8080/"
        },
        "outputId": "091d4599-80df-4e47-f19d-c2dbd2a1e438"
      },
      "source": [
        "preprocess_train = tv.transforms.Compose([\n",
        "    tv.transforms.ToPILImage(mode='RGB'),\n",
        "    tv.transforms.Resize(size=128, interpolation=PIL.Image.BILINEAR),  # It's the default, just being explicit for the reader.\n",
        "    tv.transforms.CenterCrop((128, 128)),\n",
        "    tv.transforms.RandomHorizontalFlip(),\n",
        "    tv.transforms.ToTensor(),\n",
        "    tv.transforms.Normalize((0.5, 0.5, 0.5), (0.5, 0.5, 0.5))  # Get data into [-1, 1]\n",
        "])\n",
        "\n",
        "preprocess_eval = tv.transforms.Compose([\n",
        "    tv.transforms.Resize((128, 128), interpolation=PIL.Image.BILINEAR),\n",
        "    tv.transforms.ToTensor(),\n",
        "    tv.transforms.Normalize((0.5, 0.5, 0.5), (0.5, 0.5, 0.5))\n",
        "])\n",
        "\n",
        "# now we need to define custom dataset for the downloaded data\n",
        "\n",
        "class CatBreed(Dataset):\n",
        "  def __init__ (self,csv_file,root_dir,transform=None):\n",
        "    self.annotations=pd.read_csv(csv_file)\n",
        "    self.class_names=list(self.annotations['breed'].unique())\n",
        "    self.annotations['class']=self.annotations.apply(lambda x: self.class_names.index(x['breed']), axis=1)\n",
        "    self.root_dir=root_dir\n",
        "    self.transform=transform\n",
        "    # deleting entries which does not have proper images (otherwise the training process will break)\n",
        "    def check_color_mode(x):    \n",
        "      try:\n",
        "          img_path=glob.glob(os.path.join(self.root_dir,'images',x['breed']+'/'+str(x['id'])+'*.jpg'))[0]\n",
        "          image=io.imread(img_path)\n",
        "          if self.transform:\n",
        "            image=self.transform(image)\n",
        "      except:\n",
        "          return False\n",
        "      return True\n",
        "    self.annotations['image_ok']=self.annotations.apply(check_color_mode,axis=1)\n",
        "    self.annotations=self.annotations[self.annotations['image_ok']].reset_index(drop=True)\n",
        "\n",
        "  def __len__(self):\n",
        "    return len(self.annotations)\n",
        "\n",
        "  def __getitem__(self,index):\n",
        "    img_path=glob.glob(os.path.join(self.root_dir,'images',self.annotations.loc[index,'breed']+'/'+str(self.annotations.loc[index,'id'])+'*.jpg'))[0]\n",
        "    try:\n",
        "      image=io.imread(img_path)\n",
        "    except:\n",
        "      raise Exception('Image not loaded: '+img_path)\n",
        "    y_label=int(self.annotations.loc[index,'class'])\n",
        "    if self.transform:\n",
        "      image=self.transform(image)\n",
        "    return (image,y_label)\n",
        "  "
      ],
      "execution_count": 4,
      "outputs": [
        {
          "output_type": "stream",
          "name": "stderr",
          "text": [
            "/usr/local/lib/python3.7/dist-packages/torchvision/transforms/transforms.py:281: UserWarning: Argument interpolation should be of type InterpolationMode instead of int. Please, use InterpolationMode enum.\n",
            "  \"Argument interpolation should be of type InterpolationMode instead of int. \"\n"
          ]
        }
      ]
    },
    {
      "cell_type": "code",
      "metadata": {
        "id": "N1RqSpt1JNk_"
      },
      "source": [
        "dataset=CatBreed('/content/cats/data/cats.csv','/content/cats',transform=preprocess_train)\n",
        "train_len=int(len(dataset)*0.8)\n",
        "test_len=len(dataset)-train_len\n",
        "\n",
        "SEED=42\n",
        "train_idx, test_idx, = train_test_split(\n",
        "    range(len(dataset)),\n",
        "    test_size=test_len,\n",
        "    random_state=SEED\n",
        ")\n",
        "\n",
        "trainset=Subset(dataset, train_idx)\n",
        "testset=Subset(dataset, test_idx)\n"
      ],
      "execution_count": 5,
      "outputs": []
    },
    {
      "cell_type": "code",
      "metadata": {
        "colab": {
          "base_uri": "https://localhost:8080/"
        },
        "id": "RQGdQUZEvcI_",
        "outputId": "9626dcbc-9bcc-40ea-ace1-4b8778e3f47a"
      },
      "source": [
        "device = torch.device(\"cuda:0\" if torch.cuda.is_available() else \"cpu\")\n",
        "print(device)"
      ],
      "execution_count": 6,
      "outputs": [
        {
          "output_type": "stream",
          "name": "stdout",
          "text": [
            "cuda:0\n"
          ]
        }
      ]
    },
    {
      "cell_type": "code",
      "metadata": {
        "id": "HsjYMmPGv38T"
      },
      "source": [
        "def get_weights(bit_variant):\n",
        "  response = requests.get(f'https://storage.googleapis.com/bit_models/{bit_variant}.npz')\n",
        "  response.raise_for_status()\n",
        "  return np.load(io_.BytesIO(response.content))"
      ],
      "execution_count": 7,
      "outputs": []
    },
    {
      "cell_type": "code",
      "metadata": {
        "id": "zdVX9ag_v9el"
      },
      "source": [
        "weights = get_weights('BiT-M-R50x1')  # You could use other variants, such as R101x3 or R152x4 here, but it is not advisable in a colab."
      ],
      "execution_count": 8,
      "outputs": []
    },
    {
      "cell_type": "code",
      "metadata": {
        "id": "LzavNRJZwCe_"
      },
      "source": [
        "class StdConv2d(nn.Conv2d):\n",
        "  def forward(self, x):\n",
        "    w = self.weight\n",
        "    v, m = torch.var_mean(w, dim=[1, 2, 3], keepdim=True, unbiased=False)\n",
        "    w = (w - m) / torch.sqrt(v + 1e-10)\n",
        "    return F.conv2d(x, w, self.bias, self.stride, self.padding, self.dilation, self.groups)"
      ],
      "execution_count": 9,
      "outputs": []
    },
    {
      "cell_type": "code",
      "metadata": {
        "id": "PbEz69UhwUCA"
      },
      "source": [
        "def conv3x3(cin, cout, stride=1, groups=1, bias=False):\n",
        "  return StdConv2d(cin, cout, kernel_size=3, stride=stride, padding=1, bias=bias, groups=groups)\n",
        "\n",
        "def conv1x1(cin, cout, stride=1, bias=False):\n",
        "  return StdConv2d(cin, cout, kernel_size=1, stride=stride, padding=0, bias=bias)"
      ],
      "execution_count": 10,
      "outputs": []
    },
    {
      "cell_type": "code",
      "metadata": {
        "id": "xR6W9-I6wXOC"
      },
      "source": [
        "def tf2th(conv_weights):\n",
        "  \"\"\"Possibly convert HWIO to OIHW\"\"\"\n",
        "  if conv_weights.ndim == 4:\n",
        "    conv_weights = np.transpose(conv_weights, [3, 2, 0, 1])\n",
        "  return torch.from_numpy(conv_weights)"
      ],
      "execution_count": 11,
      "outputs": []
    },
    {
      "cell_type": "code",
      "metadata": {
        "id": "bu4VthynwXWA"
      },
      "source": [
        "def tf2th(conv_weights):\n",
        "  \"\"\"Possibly convert HWIO to OIHW\"\"\"\n",
        "  if conv_weights.ndim == 4:\n",
        "    conv_weights = np.transpose(conv_weights, [3, 2, 0, 1])\n",
        "  return torch.from_numpy(conv_weights)"
      ],
      "execution_count": 12,
      "outputs": []
    },
    {
      "cell_type": "code",
      "metadata": {
        "id": "CwVYMougwXft"
      },
      "source": [
        "class PreActBottleneck(nn.Module):\n",
        "  \"\"\"\n",
        "  Follows the implementation of \"Identity Mappings in Deep Residual Networks\" here:\n",
        "  https://github.com/KaimingHe/resnet-1k-layers/blob/master/resnet-pre-act.lua\n",
        "\n",
        "  Except it puts the stride on 3x3 conv when available.\n",
        "  \"\"\"\n",
        "  def __init__(self, cin, cout=None, cmid=None, stride=1):\n",
        "    super().__init__()\n",
        "    cout = cout or cin\n",
        "    cmid = cmid or cout//4\n",
        "\n",
        "    self.gn1 = nn.GroupNorm(32, cin)\n",
        "    self.conv1 = conv1x1(cin, cmid)\n",
        "    self.gn2 = nn.GroupNorm(32, cmid)\n",
        "    self.conv2 = conv3x3(cmid, cmid, stride)  # Original ResNetv2 has it on conv1!!\n",
        "    self.gn3 = nn.GroupNorm(32, cmid)\n",
        "    self.conv3 = conv1x1(cmid, cout)\n",
        "    self.relu = nn.ReLU(inplace=True)\n",
        "\n",
        "    if (stride != 1 or cin != cout):\n",
        "      # Projection also with pre-activation according to paper.\n",
        "      self.downsample = conv1x1(cin, cout, stride)\n",
        "\n",
        "  def forward(self, x):\n",
        "      # Conv'ed branch\n",
        "      out = self.relu(self.gn1(x))\n",
        "\n",
        "      # Residual branch\n",
        "      residual = x\n",
        "      if hasattr(self, 'downsample'):\n",
        "          residual = self.downsample(out)\n",
        "\n",
        "      # The first block has already applied pre-act before splitting, see Appendix.\n",
        "      out = self.conv1(out)\n",
        "      out = self.conv2(self.relu(self.gn2(out)))\n",
        "      out = self.conv3(self.relu(self.gn3(out)))\n",
        "\n",
        "      return out + residual\n",
        "\n",
        "  def load_from(self, weights, prefix=''):\n",
        "    with torch.no_grad():\n",
        "      self.conv1.weight.copy_(tf2th(weights[prefix + 'a/standardized_conv2d/kernel']))\n",
        "      self.conv2.weight.copy_(tf2th(weights[prefix + 'b/standardized_conv2d/kernel']))\n",
        "      self.conv3.weight.copy_(tf2th(weights[prefix + 'c/standardized_conv2d/kernel']))\n",
        "      self.gn1.weight.copy_(tf2th(weights[prefix + 'a/group_norm/gamma']))\n",
        "      self.gn2.weight.copy_(tf2th(weights[prefix + 'b/group_norm/gamma']))\n",
        "      self.gn3.weight.copy_(tf2th(weights[prefix + 'c/group_norm/gamma']))\n",
        "      self.gn1.bias.copy_(tf2th(weights[prefix + 'a/group_norm/beta']))\n",
        "      self.gn2.bias.copy_(tf2th(weights[prefix + 'b/group_norm/beta']))\n",
        "      self.gn3.bias.copy_(tf2th(weights[prefix + 'c/group_norm/beta']))\n",
        "      if hasattr(self, 'downsample'):\n",
        "        self.downsample.weight.copy_(tf2th(weights[prefix + 'a/proj/standardized_conv2d/kernel']))\n",
        "    return self"
      ],
      "execution_count": 13,
      "outputs": []
    },
    {
      "cell_type": "code",
      "metadata": {
        "id": "J-D_k1UpwXo-"
      },
      "source": [
        "class ResNetV2(nn.Module):\n",
        "  BLOCK_UNITS = {\n",
        "      'r50': [3, 4, 6, 3],\n",
        "      'r101': [3, 4, 23, 3],\n",
        "      'r152': [3, 8, 36, 3],\n",
        "  }\n",
        "\n",
        "  def __init__(self, block_units, width_factor, head_size=21843, zero_head=False):\n",
        "    super().__init__()\n",
        "    wf = width_factor  # shortcut 'cause we'll use it a lot.\n",
        "\n",
        "    self.root = nn.Sequential(OrderedDict([\n",
        "        ('conv', StdConv2d(3, 64*wf, kernel_size=7, stride=2, padding=3, bias=False)),\n",
        "        ('padp', nn.ConstantPad2d(1, 0)),\n",
        "        ('pool', nn.MaxPool2d(kernel_size=3, stride=2, padding=0)),\n",
        "        # The following is subtly not the same!\n",
        "        #('pool', nn.MaxPool2d(kernel_size=3, stride=2, padding=1)),\n",
        "    ]))\n",
        "\n",
        "    self.body = nn.Sequential(OrderedDict([\n",
        "        ('block1', nn.Sequential(OrderedDict(\n",
        "            [('unit01', PreActBottleneck(cin= 64*wf, cout=256*wf, cmid=64*wf))] +\n",
        "            [(f'unit{i:02d}', PreActBottleneck(cin=256*wf, cout=256*wf, cmid=64*wf)) for i in range(2, block_units[0] + 1)],\n",
        "        ))),\n",
        "        ('block2', nn.Sequential(OrderedDict(\n",
        "            [('unit01', PreActBottleneck(cin=256*wf, cout=512*wf, cmid=128*wf, stride=2))] +\n",
        "            [(f'unit{i:02d}', PreActBottleneck(cin=512*wf, cout=512*wf, cmid=128*wf)) for i in range(2, block_units[1] + 1)],\n",
        "        ))),\n",
        "        ('block3', nn.Sequential(OrderedDict(\n",
        "            [('unit01', PreActBottleneck(cin= 512*wf, cout=1024*wf, cmid=256*wf, stride=2))] +\n",
        "            [(f'unit{i:02d}', PreActBottleneck(cin=1024*wf, cout=1024*wf, cmid=256*wf)) for i in range(2, block_units[2] + 1)],\n",
        "        ))),\n",
        "        ('block4', nn.Sequential(OrderedDict(\n",
        "            [('unit01', PreActBottleneck(cin=1024*wf, cout=2048*wf, cmid=512*wf, stride=2))] +\n",
        "            [(f'unit{i:02d}', PreActBottleneck(cin=2048*wf, cout=2048*wf, cmid=512*wf)) for i in range(2, block_units[3] + 1)],\n",
        "        ))),\n",
        "    ]))\n",
        "\n",
        "    self.zero_head = zero_head\n",
        "    self.head = nn.Sequential(OrderedDict([\n",
        "        ('gn', nn.GroupNorm(32, 2048*wf)),\n",
        "        ('relu', nn.ReLU(inplace=True)),\n",
        "        ('avg', nn.AdaptiveAvgPool2d(output_size=1)),\n",
        "        ('conv', nn.Conv2d(2048*wf, head_size, kernel_size=1, bias=True)),\n",
        "    ]))\n",
        "  \n",
        "  def forward(self, x):\n",
        "    x = self.head(self.body(self.root(x)))\n",
        "    assert x.shape[-2:] == (1, 1)  # We should have no spatial shape left.\n",
        "    return x[...,0,0]\n",
        "\n",
        "  def load_from(self, weights, prefix='resnet/'):\n",
        "    with torch.no_grad():\n",
        "      self.root.conv.weight.copy_(tf2th(weights[f'{prefix}root_block/standardized_conv2d/kernel']))\n",
        "      self.head.gn.weight.copy_(tf2th(weights[f'{prefix}group_norm/gamma']))\n",
        "      self.head.gn.bias.copy_(tf2th(weights[f'{prefix}group_norm/beta']))\n",
        "      if self.zero_head:\n",
        "        nn.init.zeros_(self.head.conv.weight)\n",
        "        nn.init.zeros_(self.head.conv.bias)\n",
        "      else:\n",
        "        self.head.conv.weight.copy_(tf2th(weights[f'{prefix}head/conv2d/kernel']))\n",
        "        self.head.conv.bias.copy_(tf2th(weights[f'{prefix}head/conv2d/bias']))\n",
        "\n",
        "      for bname, block in self.body.named_children():\n",
        "        for uname, unit in block.named_children():\n",
        "          unit.load_from(weights, prefix=f'{prefix}{bname}/{uname}/')\n",
        "    return self"
      ],
      "execution_count": 14,
      "outputs": []
    },
    {
      "cell_type": "code",
      "metadata": {
        "id": "NPDTbQjTwXxQ"
      },
      "source": [
        "%config InlineBackend.figure_format = 'retina'"
      ],
      "execution_count": 15,
      "outputs": []
    },
    {
      "cell_type": "code",
      "metadata": {
        "id": "u-nTD_wfwX5s"
      },
      "source": [
        "from IPython.display import HTML, display\n",
        "\n",
        "def progress(value, max=100):\n",
        "    return HTML(\"\"\"\n",
        "        <progress\n",
        "            value='{value}'\n",
        "            max='{max}',\n",
        "            style='width: 100%'\n",
        "        >\n",
        "            {value}\n",
        "        </progress>\n",
        "    \"\"\".format(value=value, max=max))"
      ],
      "execution_count": 16,
      "outputs": []
    },
    {
      "cell_type": "code",
      "metadata": {
        "id": "ymJddhzIwYFP"
      },
      "source": [
        "def stairs(s, v, *svs):\n",
        "    \"\"\" Implements a typical \"stairs\" schedule for learning-rates.\n",
        "    Best explained by example:\n",
        "    stairs(s, 0.1, 10, 0.01, 20, 0.001)\n",
        "    will return 0.1 if s<10, 0.01 if 10<=s<20, and 0.001 if 20<=s\n",
        "    \"\"\"\n",
        "    for s0, v0 in zip(svs[::2], svs[1::2]):\n",
        "        if s < s0:\n",
        "            break\n",
        "        v = v0\n",
        "    return v\n",
        "\n",
        "def rampup(s, peak_s, peak_lr):\n",
        "  if s < peak_s:  # Warmup\n",
        "    return s/peak_s * peak_lr\n",
        "  else:\n",
        "    return peak_lr\n",
        "\n",
        "def schedule(s):\n",
        "  step_lr = stairs(s, 3e-3, 200, 3e-4, 300, 3e-5, 400, 3e-6, 500, None)\n",
        "  return rampup(s, 100, step_lr)"
      ],
      "execution_count": 17,
      "outputs": []
    },
    {
      "cell_type": "code",
      "metadata": {
        "id": "NIsICR0G_Tl-"
      },
      "source": [
        "model = ResNetV2(ResNetV2.BLOCK_UNITS['r50'], width_factor=1, head_size=67, zero_head=True)\n",
        "model.load_from(weights)\n",
        "model.to(device);"
      ],
      "execution_count": 18,
      "outputs": []
    },
    {
      "cell_type": "code",
      "metadata": {
        "id": "hUMFEGm6_VD9"
      },
      "source": [
        "sampler = torch.utils.data.RandomSampler(trainset, replacement=True, num_samples=256)\n",
        "loader_train = torch.utils.data.DataLoader(trainset, batch_size=256, num_workers=2, sampler=sampler)\n",
        "loader_test = torch.utils.data.DataLoader(testset, batch_size=256, num_workers=2, sampler=sampler)"
      ],
      "execution_count": 19,
      "outputs": []
    },
    {
      "cell_type": "code",
      "metadata": {
        "id": "MbQiILi6_VO6"
      },
      "source": [
        "crit = nn.CrossEntropyLoss()\n",
        "opti = torch.optim.SGD(model.parameters(), lr=0.003, momentum=0.9)\n",
        "#model.train();"
      ],
      "execution_count": 20,
      "outputs": []
    },
    {
      "cell_type": "code",
      "metadata": {
        "id": "z_sXXQZVDHov"
      },
      "source": [
        "def eval_cats(model, bs=100, progressbar=True):\n",
        "  loader_test = torch.utils.data.DataLoader(testset, batch_size=bs, shuffle=False, num_workers=2)\n",
        "\n",
        "  model.eval()\n",
        "\n",
        "  if progressbar is True:\n",
        "    progressbar = display(progress(0, len(loader_test)), display_id=True)\n",
        "\n",
        "  preds = []\n",
        "  with torch.no_grad():\n",
        "    for i, (x, t) in enumerate(loader_test):\n",
        "      x, t = x.to(device), t.numpy()\n",
        "      logits = model(x)\n",
        "      _, y = torch.max(logits.data, 1)\n",
        "      preds.extend(y.cpu().numpy() == t)\n",
        "      progressbar.update(progress(i+1, len(loader_test)))\n",
        "\n",
        "  return np.mean(preds)"
      ],
      "execution_count": 21,
      "outputs": []
    },
    {
      "cell_type": "code",
      "metadata": {
        "colab": {
          "base_uri": "https://localhost:8080/",
          "height": 122
        },
        "id": "2q-3O8UO_Txv",
        "outputId": "4c69c469-31f1-463d-952c-33a1602d639c"
      },
      "source": [
        "S = 500\n",
        "def schedule(s):\n",
        "  step_lr = stairs(s, 3e-3, 200, 3e-4, 300, 3e-5, 400, 3e-6, S, None)\n",
        "  return rampup(s, 100, step_lr)\n",
        "\n",
        "pb_train = display(progress(0, S), display_id=True)\n",
        "pb_test = display(progress(0, 100), display_id=True)\n",
        "losses = [[]]\n",
        "accus_train = [[]]\n",
        "accus_test = []\n",
        "\n",
        "steps_per_iter = 512 // loader_train.batch_size\n",
        "\n",
        "while len(losses) < S:\n",
        "  for x, t in loader_train:\n",
        "    x, t = x.to(device), t.to(device)\n",
        "\n",
        "    logits = model(x)\n",
        "    loss = crit(logits, t) / steps_per_iter\n",
        "    loss.backward()\n",
        "    losses[-1].append(loss.item())\n",
        "\n",
        "    with torch.no_grad():\n",
        "      accus_train[-1].extend(torch.max(logits, dim=1)[1].cpu().numpy() == t.cpu().numpy())\n",
        "\n",
        "    if len(losses[-1]) == steps_per_iter:\n",
        "      losses[-1] = sum(losses[-1])\n",
        "      losses.append([])\n",
        "      accus_train[-1] = np.mean(accus_train[-1])\n",
        "      accus_train.append([])\n",
        "\n",
        "      # Update learning-rate according to schedule, and stop if necessary\n",
        "      lr = schedule(len(losses) - 1)\n",
        "      for param_group in opti.param_groups:\n",
        "        param_group['lr'] = lr\n",
        "\n",
        "      opti.step()\n",
        "      opti.zero_grad()\n",
        "\n",
        "      pb_train.update(progress(len(losses) - 1, S))\n",
        "      print(f'\\r[Step {len(losses) - 1}] loss={losses[-2]:.2e} '\n",
        "            f'train accu={accus_train[-2]:.2%} '\n",
        "            f'test accu={accus_test[-1] if accus_test else 0:.2%} '\n",
        "            f'(lr={lr:g})', end='', flush=True)\n",
        "\n",
        "      if len(losses) % 25 == 0:\n",
        "        accus_test.append(eval_cats(model, progressbar=pb_test))\n",
        "        model.train()"
      ],
      "execution_count": 22,
      "outputs": [
        {
          "output_type": "display_data",
          "data": {
            "text/html": [
              "\n",
              "        <progress\n",
              "            value='499'\n",
              "            max='500',\n",
              "            style='width: 100%'\n",
              "        >\n",
              "            499\n",
              "        </progress>\n",
              "    "
            ],
            "text/plain": [
              "<IPython.core.display.HTML object>"
            ]
          },
          "metadata": {}
        },
        {
          "output_type": "display_data",
          "data": {
            "text/html": [
              "\n",
              "        <progress\n",
              "            value='135'\n",
              "            max='135',\n",
              "            style='width: 100%'\n",
              "        >\n",
              "            135\n",
              "        </progress>\n",
              "    "
            ],
            "text/plain": [
              "<IPython.core.display.HTML object>"
            ]
          },
          "metadata": {}
        },
        {
          "output_type": "stream",
          "name": "stderr",
          "text": [
            "/usr/local/lib/python3.7/dist-packages/torch/nn/functional.py:718: UserWarning: Named tensors and all their associated APIs are an experimental feature and subject to change. Please do not use them for anything important until they are released as stable. (Triggered internally at  /pytorch/c10/core/TensorImpl.h:1156.)\n",
            "  return torch.max_pool2d(input, kernel_size, stride, padding, dilation, ceil_mode)\n"
          ]
        },
        {
          "output_type": "stream",
          "name": "stdout",
          "text": [
            "[Step 499] loss=1.71e+00 train accu=49.41% test accu=42.00% (lr=3e-06)"
          ]
        }
      ]
    },
    {
      "cell_type": "code",
      "metadata": {
        "id": "TX1zIB3s_T4Y",
        "colab": {
          "base_uri": "https://localhost:8080/",
          "height": 280
        },
        "outputId": "f7fc548a-235d-48e5-f1d5-39ce810bf8d3"
      },
      "source": [
        "fig, (ax1, ax2, ax3) = plt.subplots(1, 3, figsize=(15, 4))\n",
        "ax1.plot(losses[:-1])\n",
        "ax1.set_yscale('log')\n",
        "ax1.set_title('loss')\n",
        "ax2.plot(accus_train[:-1])\n",
        "ax2.set_title('training accuracy')\n",
        "ax3.plot(np.arange(25, 501, 25), accus_test)\n",
        "ax3.set_title('test accuracy');"
      ],
      "execution_count": 23,
      "outputs": [
        {
          "output_type": "display_data",
          "data": {
            "image/png": "[encoded data removed]",
            "text/plain": [
              "<Figure size 1080x288 with 3 Axes>"
            ]
          },
          "metadata": {
            "image/png": {
              "width": 893,
              "height": 263
            },
            "needs_background": "light"
          }
        }
      ]
    },
    {
      "cell_type": "code",
      "metadata": {
        "id": "BmbKL9ZQ_UCp"
      },
      "source": [
        "#drive.mount('/content/gdrive')\n",
        "torch.save(model.state_dict(),'/content/gdrive/MyDrive/data/cats_model_state')\n",
        "with open('/content/gdrive/MyDrive/data/cat_model_class_names', 'wb') as f:\n",
        "  pickle.dump(dataset.class_names, f)\n",
        "drive.flush_and_unmount()"
      ],
      "execution_count": 24,
      "outputs": []
    }
  ]
}